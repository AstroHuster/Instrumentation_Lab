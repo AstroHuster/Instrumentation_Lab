{
 "cells": [
  {
   "cell_type": "code",
   "execution_count": 6,
   "metadata": {
    "collapsed": false
   },
   "outputs": [
    {
     "name": "stdout",
     "output_type": "stream",
     "text": [
      "⎡1  m⎤\n",
      "⎢    ⎥\n",
      "⎣3  4⎦\n",
      "⎡  3⋅m           -m    ⎤\n",
      "⎢──────── + 1  ────────⎥\n",
      "⎢-3⋅m + 4      -3⋅m + 4⎥\n",
      "⎢                      ⎥\n",
      "⎢    -3           1    ⎥\n",
      "⎢  ────────    ────────⎥\n",
      "⎣  -3⋅m + 4    -3⋅m + 4⎦\n"
     ]
    }
   ],
   "source": [
    "from sympy import *\n",
    "m = symbols('m', real=True) # Anything following a # is a comment\n",
    "# Without real=True, symbols are complex numbers.\n",
    "M = Matrix( [ [1,m],[3,4] ] ) # Extra spaces inserted for clarity print M.inv()\n",
    "pprint(M)\n",
    "pprint(M.inv())"
   ]
  },
  {
   "cell_type": "code",
   "execution_count": null,
   "metadata": {
    "collapsed": true
   },
   "outputs": [],
   "source": []
  }
 ],
 "metadata": {
  "kernelspec": {
   "display_name": "Python [default]",
   "language": "python",
   "name": "python2"
  },
  "language_info": {
   "codemirror_mode": {
    "name": "ipython",
    "version": 2
   },
   "file_extension": ".py",
   "mimetype": "text/x-python",
   "name": "python",
   "nbconvert_exporter": "python",
   "pygments_lexer": "ipython2",
   "version": "2.7.12"
  }
 },
 "nbformat": 4,
 "nbformat_minor": 1
}
