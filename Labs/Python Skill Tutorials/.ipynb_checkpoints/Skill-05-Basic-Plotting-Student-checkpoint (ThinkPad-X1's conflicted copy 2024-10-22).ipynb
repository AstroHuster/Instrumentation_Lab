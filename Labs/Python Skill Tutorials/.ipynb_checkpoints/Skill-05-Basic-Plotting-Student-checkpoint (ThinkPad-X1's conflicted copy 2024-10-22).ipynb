{
 "cells": [
  {
   "cell_type": "markdown",
   "metadata": {},
   "source": [
    "# Skill Homework #5 - Basic Plotting\n",
    "----\n",
    "# Plotting with `matplotlib`\n",
    "The python module `matplotlib` is a very widely used package. It is based on the plotting in the commercial program `Matlab`. There are several way to import and use `matplotlib`. We will use what is called the *object-oriented* approach. You can see in the cell below how the module is imported in this approach.\n",
    "\n",
    "The line `%matplotlib inline` tells jupyter to display the plots in this web browser page.\n",
    "\n",
    "Run the cell below to read in the `numpy` and `matplotlib` modules and set up the inline plots.\n",
    "\n",
    "To get you started I put in some code to create some data.\n",
    "```\n",
    "%matplotlib inline\n",
    "import numpy as np\n",
    "import matplotlib.pyplot as plt\n",
    "#\n",
    "# Now make some data\n",
    "np.random.seed(20150108) # seed the random number generator so eveyone has the same data\n",
    "time = np.linspace(0, 2, 101)\n",
    "volts = 2.5 * np.sin(2 * np.pi * time + 1.0) + np.random.normal(0,0.1,len(time))\n",
    "vModel = 2.5 * np.sin(2 * np.pi * time + 1.0)\n",
    "```"
   ]
  },
  {
   "cell_type": "code",
   "execution_count": null,
   "metadata": {},
   "outputs": [],
   "source": []
  },
  {
   "cell_type": "markdown",
   "metadata": {},
   "source": [
    "# Quick Plots\n",
    "Quick and dirty plots can be made with the one line of code: \n",
    "```\n",
    "plt.plot(time, volts)\n",
    "```\n",
    "You may gave noticed the cell prints out annoying stuff above the plot.\n",
    "To avoid this make the last line in the cell `pass`. This is a NOP (No OPeration)\n",
    "command in python.\n",
    "Go ahead and run this in the cell below."
   ]
  },
  {
   "cell_type": "code",
   "execution_count": null,
   "metadata": {},
   "outputs": [],
   "source": []
  },
  {
   "cell_type": "markdown",
   "metadata": {},
   "source": [
    "## Dressing up the Plot\n",
    "You need to learn to embellish the plot to make it minimall acceptable. \n",
    "Every plot needs two things: a title, and axis labels with units. \n",
    "These are added with `plt`.\n",
    "```\n",
    "ax.set_xlabel(\"myXLabel\")\n",
    "```\n",
    "sets `\"myXLabel\"` as the x label. Your label should have a one or two word description followed by the units in parentheses, like `Time (s)`. Similarly, the method for adding a y label is \n",
    "```\n",
    "ax.set_ylabel(FILL THIS IN)\n",
    "```\n",
    "\n",
    "To add a title, the method is \n",
    "```\n",
    "ax.set_title(GIVE ME A TITLE)\n",
    "```\n",
    "Give the plot the title `Sensor Output`.\n",
    "\n",
    "Unfortunately, jupyter can't modify the plot in a previous cell. So, in the cell below, copy and paste the code, then add the code for adding the labels and title."
   ]
  },
  {
   "cell_type": "code",
   "execution_count": null,
   "metadata": {},
   "outputs": [],
   "source": []
  },
  {
   "cell_type": "markdown",
   "metadata": {},
   "source": [
    "# Multiple Lines on Plot\n",
    "## Symbols, Colors, and Line Types\n",
    "One problem with the above plot is that since the data is not smooth, it should be plotted with dots or symbols. Data should almost always be plotted with dots or symbols. `matplotlib`, like `Matlab`, does this with a formatting parameterin the `plot` command. You can append and optional third parameter after the y array with formatting information about the plot line. This formatting is a very compact string with the line type, the symbol, and the color encoded in a three character string. Here are some examples:\n",
    "* `'-k'` - plots only a black line. (`k` means blac***k***.)\n",
    "* `'.r'` - plots only dots in the color red\n",
    "* `'--g'` - plots only a green dashed line\n",
    "* `'ob'` - plots only circles in blue\n",
    "* `'^:m'` - plots triangle connected by a dotted line in magenta\n",
    "* `help(plt.plot)` is always available with more options and details\n",
    "\n",
    "Other colors are `y` and `c`. Other symbols are `v`, `*`, `+`, `x`, `'s'`, and `d`. Another line types is `'-.'`. Your plot should have a line like\n",
    "```\n",
    "plt.plot(time, volts, '.b')\n",
    "```\n",
    "and another line to plot model as a solid red line.\n",
    "\n",
    "## Adding More Lines to a Plot\n",
    "Adding another line (or set of symbols) to the plot is just a matter of adding another `plt.plot` call. Each sucessive call of `plot` will add another line to the axis.\n",
    "\n",
    "Copy and paste your previous code in the cell below. Then modify it to plot the data points in blue dots without a line, and the model `vModel` as a red smooth line.\n",
    "\n",
    "## It Should Look Like This ... \n",
    "![Fig5-1](./Figures/Skill05-1.png)\n",
    "If yours does not, keep trying until it does."
   ]
  },
  {
   "cell_type": "code",
   "execution_count": null,
   "metadata": {},
   "outputs": [],
   "source": []
  },
  {
   "cell_type": "markdown",
   "metadata": {},
   "source": [
    "# Legends and a Grid\n",
    "The next two modifications are optional. Often it is useful to have background grid on your plots. This is done by calling `plt.grid()`.\n",
    "\n",
    "Next, sometimes you are plotting multiple data sets or models on the graph, so you need a *legend* to help the reader decode what you plotted. There are two steps to doing this.\n",
    "1. In each call to `plot`, add a parameter like `label=\"Data\"`. Whatever string you assign to `label` will be used in making a legend.\n",
    "2. Add the call \n",
    "```\n",
    "plt.legend()\n",
    "```\n",
    "after your last call to `plot`. This turns on the legend.\n",
    "\n",
    "In the cell below, add a grid and legend to your plot."
   ]
  },
  {
   "cell_type": "code",
   "execution_count": null,
   "metadata": {},
   "outputs": [],
   "source": []
  },
  {
   "cell_type": "markdown",
   "metadata": {},
   "source": [
    "# Setting Axis Limits\n",
    "Usually `matplotlib` chooses the axis limits well, but sometimes the default limits need to be adjusted. The methods \n",
    "```\n",
    "plt.xlim(min,max)\n",
    "plt.ylim(min,max)\n",
    "```\n",
    "set the limits to your choice. For example setting the y limits from -2.8 to 3.8 leaves better room for the legend box.\n",
    "\n",
    "Copy and paste your previous code and add both x and y limits to the plot. Also expanding the x limits a little bit, like 0.1 could show better where the data begins and ends.\n",
    "\n",
    "# Your Best Shot\n",
    "![No Text](./Figures/Skill05-2.png)\n",
    "\n",
    "It should look like the figure above."
   ]
  },
  {
   "cell_type": "code",
   "execution_count": null,
   "metadata": {},
   "outputs": [],
   "source": []
  },
  {
   "cell_type": "markdown",
   "metadata": {},
   "source": [
    "----\n",
    "# Additional Topics\n",
    "----\n",
    "# Logarithmic Axes\n",
    "Sometimes your data or models are shown better with a logarithmic axis for one or both axes. The methods \n",
    "```\n",
    "plt.yscale('log')\n",
    "plt.xscale('log')\n",
    "```\n",
    "change the scaling on the respective axes.\n",
    "\n",
    "Use the following code in the cell below to generate more data\n",
    "```\n",
    "volts2 = 3 * np.exp(-time/0.25)\n",
    "```\n",
    "Then plot it using a logarithmic y-axis."
   ]
  },
  {
   "cell_type": "code",
   "execution_count": null,
   "metadata": {},
   "outputs": [],
   "source": []
  },
  {
   "cell_type": "markdown",
   "metadata": {},
   "source": [
    "## Log-Log Plot\n",
    "Now to demonstrate the log-log plot, create the following data:\n",
    "```\n",
    "time3 = time[1:]\n",
    "volts3 = time3 ** -2\n",
    "```\n",
    "We want to plot this data in plot linear and log-log axis scaling. The example below does some fancy figure handling.\n",
    "1. I set the `figsize` manually to be extra wide by using \n",
    "```\n",
    "fig = plt.figure(figsize=(12,5))\n",
    "```\n",
    "2. I add a subplot axis using `121`. This means there will be one *row* amd two *columns* of plots, and this plot will be the first.\n",
    "  3. Use the line `fig.subplot(121)`\n",
    "4. Do all of the plotting and labeling for figure 1\n",
    "5. \n",
    "6. The next set of axes are the second one, so it will be in the second columns. Note the first two numbers have to match.\n",
    "  7. Before starting the second plot, enter the line, `plt.subplot(122)`\n",
    "8. Do all of the plotting and labeling for the second plot.\n",
    "\n",
    "# Plot\n",
    "![](./Figures/Skill05-3.png)\n",
    "\n",
    "Keep trying until it looks like the above plots."
   ]
  },
  {
   "cell_type": "code",
   "execution_count": null,
   "metadata": {},
   "outputs": [],
   "source": []
  },
  {
   "cell_type": "markdown",
   "metadata": {},
   "source": [
    "----\n",
    "# Saving Figures\n",
    "Saving plots as graphics is a simple call to the method \n",
    "```\n",
    "fig.savefig(fileName, dpi=dotsPerInch)\n",
    "```\n",
    "where the argument `dpi=dotsPerInch` is optional. The type of file produced is determined by the extension of the file name. Here are the file types I suggest:\n",
    "1. `.png` with `dpi=200` - this makes a nice large file you can include in any document. The quality comes out better than if you use a `.jpg` file.\n",
    "2. `.svg` with not `dpi` - this is a *vector* image file. Everything is describes by coordinates and sizes. This file scale to differnt sizes very well. This is a good choice if you are making a poster with large figures.\n",
    "3. `.pdf` with `dpi=200` - sometimes this format works better with LaTeX documents.\n",
    "\n",
    "I usually use `.png` format files. In the cell below save the previous pair of plots in this format. \n",
    "\n",
    "BTW, jupyter remembers the previous plot, so you can just run the `savefig` code."
   ]
  },
  {
   "cell_type": "code",
   "execution_count": null,
   "metadata": {},
   "outputs": [],
   "source": [
    "fig.savefig(\"test.png\", dpi=200)"
   ]
  },
  {
   "cell_type": "markdown",
   "metadata": {},
   "source": [
    "** Double Click Here to edit this hidden cell **\n",
    "Here is your figure in this web page. Edit the name to match your file name. Then execute this cell by typing `<shift><enter>`.\n",
    "![Alt text](./test.png)"
   ]
  },
  {
   "cell_type": "markdown",
   "metadata": {},
   "source": [
    "----\n",
    "# More Plots\n",
    "# Histograms\n",
    "*Histograms* are a powerful way of graphing data that has randomness around some value. It shows how the data are randomly distributed. The x-axis are the data values, and the y-axis is a bar graph of how many times each value occurs.\n",
    "\n",
    "The code below simulates measuring a lenth of 5 cm ten thousand times with an uncertainty of 0.1 cm.\n",
    "```\n",
    "np.random.seed(0)\n",
    "meas1 = np.random.normal(5.0, 0.1, 10000)\n",
    "```\n",
    "The basic histogram method is (after you have made a figure and an axis) is `plt.hist(data)`, where `data` are the numbers you want to make a histogram of. \n",
    "\n",
    "Create a figure and axes, and plot this histogram."
   ]
  },
  {
   "cell_type": "code",
   "execution_count": null,
   "metadata": {},
   "outputs": [],
   "source": []
  },
  {
   "cell_type": "markdown",
   "metadata": {},
   "source": [
    "You might note that this distribution looks like the normal (or Gaussian) distribrution you have seen before.\n",
    "\n",
    "# Number of Bins\n",
    "The most common modification to the default hostogram plot is to change the bins on the x-axis. One way is to add more bins by adding a second argument rifht after your data that is an integer setting the number of bins. \n",
    "\n",
    "Replot the above data with 100 bins. When you do, you should see more small tails in the histogram and it will look more like the classical normal distribution.\n",
    "\n",
    "# Make It Look Like This ... \n",
    "![](./Figures/Skill05-4.png)"
   ]
  },
  {
   "cell_type": "code",
   "execution_count": null,
   "metadata": {},
   "outputs": [],
   "source": []
  },
  {
   "cell_type": "markdown",
   "metadata": {},
   "source": [
    "Finally, there is an optional argument `log=True` that make the y-axis logarithmic. In the cell below, plot the above histogram with the log scale turned on."
   ]
  },
  {
   "cell_type": "code",
   "execution_count": null,
   "metadata": {},
   "outputs": [],
   "source": []
  },
  {
   "cell_type": "markdown",
   "metadata": {},
   "source": [
    "Finally you can provide a list of bin boundaries as an array. The following example simulates the rolling of a pair of dice. You know there only 11 possible values from \"snake eyes\" or 2 to \"boxcars\" or 12. The default `hist` doesn't get his right without helping it out. This examples feeds it the histogram boundries.\n",
    "\n",
    "Finally, this example demonstrates the `normed` keyword that normalized the numbers so, like a probability density, the sum of the histogram heights adds up to 1.0."
   ]
  },
  {
   "cell_type": "code",
   "execution_count": null,
   "metadata": {},
   "outputs": [],
   "source": []
  },
  {
   "cell_type": "markdown",
   "metadata": {},
   "source": [
    "# Other Miscellaneous Topics\n",
    "Here are some other topic you can explore on your own. I go to a web browser and google `matplotlib whatever` to find things out or refresh my memory.\n",
    "\n",
    "## More Plot Options\n",
    "* `lw` - line width\n",
    "* `ms` - marker size\n",
    "* `mfc` - marker face color\n",
    "* `mec` - marker edge color\n",
    "* `mew` - marker edge width\n",
    "\n",
    "## More Colors\n",
    "* names - 'red', etc. But also X11 colors like 'DodgeBlue'\n",
    "* hex - '#ff8022' in rrggbb format\n",
    "* RGB tuples - like `color=(0,0,1)`, rgb values range from 0 to 1\n",
    "* RGBA tuple - like `color=(0,1,.5,.3)` where A is transparency\n",
    "\n",
    "## Adding Text Labels to Plots\n",
    "The basic call is `plt.text(x,y,string)`"
   ]
  },
  {
   "cell_type": "code",
   "execution_count": null,
   "metadata": {},
   "outputs": [],
   "source": []
  }
 ],
 "metadata": {
  "anaconda-cloud": {},
  "kernelspec": {
   "display_name": "Python 3 (ipykernel)",
   "language": "python",
   "name": "python3"
  },
  "language_info": {
   "codemirror_mode": {
    "name": "ipython",
    "version": 3
   },
   "file_extension": ".py",
   "mimetype": "text/x-python",
   "name": "python",
   "nbconvert_exporter": "python",
   "pygments_lexer": "ipython3",
   "version": "3.12.4"
  }
 },
 "nbformat": 4,
 "nbformat_minor": 4
}
