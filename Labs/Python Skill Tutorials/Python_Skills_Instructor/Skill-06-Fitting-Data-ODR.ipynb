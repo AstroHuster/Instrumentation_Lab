{
 "cells": [
  {
   "cell_type": "markdown",
   "metadata": {},
   "source": [
    "----\n",
    "# Skill Homework #6 - Fitting Data to a Model\n",
    "----\n",
    "\n",
    "**Run this code in the cell below to get started.**\n",
    "```\n",
    "%matplotlib inline\n",
    "import numpy as np\n",
    "import matplotlib.pyplot as plt\n",
    "import scipy.odr as odr\n",
    "#\n",
    "# Now make some data\n",
    "np.random.seed(20150108) # seed the random number generator so eveyone has the same data\n",
    "time = np.linspace(0, 2, 101)\n",
    "volts = 2.5 * np.sin(2 * np.pi * time - 1.0) + np.random.normal(0,0.1,len(time))\n",
    "```"
   ]
  },
  {
   "cell_type": "code",
   "execution_count": 1,
   "metadata": {},
   "outputs": [],
   "source": [
    "%matplotlib inline\n",
    "import numpy as np\n",
    "import matplotlib.pyplot as plt\n",
    "import scipy.odr as odr\n",
    "#\n",
    "# Now make some data\n",
    "np.random.seed(20150108) # seed the random number generator so eveyone has the same data\n",
    "time = np.linspace(0, 2, 101)\n",
    "volts = 2.5 * np.sin(2 * np.pi * time - 1.0) + np.random.normal(0,0.1,len(time))"
   ]
  },
  {
   "cell_type": "markdown",
   "metadata": {},
   "source": [
    "# Introduction\n",
    "A very important data analysis skill is fitting a model to your data. Let's set up the situation with the data we simulated above. You have measured the output voltage from a system and it is delayed by some amount from your input signal which has the form $V(t) = 1.0 \\sin(2 \\pi t)$. You want to know the amplitude of the output and the time delay.\n",
    "\n",
    "You almost **always** want to start your data analysis by plotting your data, so that is what you should do first in the cell below. plot the data as dots, and your input as a red line. Your plot should look like the figure below.\n",
    "\n",
    "![First Plot](./Skill-06a.png)\n",
    "\n",
    "** Plot the data in array `volts` and create the array for `input`.  **"
   ]
  },
  {
   "cell_type": "code",
   "execution_count": 2,
   "metadata": {},
   "outputs": [
    {
     "data": {
      "image/png": "[encoded data removed]",
      "text/plain": [
       "<Figure size 640x480 with 1 Axes>"
      ]
     },
     "metadata": {},
     "output_type": "display_data"
    }
   ],
   "source": [
    "fig = plt.figure()\n",
    "ax1 = fig.add_subplot(111)\n",
    "ax1.plot(time, volts, '.b', label='Data')\n",
    "ax1.set_title(\"Amplifier Output\")\n",
    "ax1.set_ylabel(\"Output (V)\")\n",
    "ax1.set_xlabel(\"Time (s)\")\n",
    "ax1.set_ylim(-3,3)\n",
    "ax1.set_xlim(0,2)\n",
    "ax1.plot(time,np.sin(2*np.pi*time),'-r', label=\"Input\")\n",
    "jnk = ax1.legend()"
   ]
  },
  {
   "cell_type": "markdown",
   "metadata": {},
   "source": [
    "# The Module `opt.odr`\n",
    "The module we are going to use to fit data to a model is called `odr` which stands for *Orthogonal Distance Regression*. We are going to treat it as a black box, but what it does is minimize the average distance between each data point and the closest point on the model function. This module is in the `optimize` module which in turn is in the module `scipy`. The `optimize` module is already imported for you as `opt` in the first cell of this notebook. \n",
    "\n",
    "There are six steps to using `odr`.\n",
    "\n",
    "## 1. Write Your model Function\n",
    "In our case, we know the time dependence of the output goes as $\\sin(2\\pi t)$. What we don't know (so what we have to fit for) is the amplitude and the starting time. Let's call the amplitude `amp` and the start time `t0`, so the model function we are fitting is $V_{out} = amp \\sin(2 \\pi (t - t_0))$. The module `odr` needs a function with two parameters. The first is an array of the parameters, in this case `[amp, t0]`. The second parameter is the data array.\n",
    "\n",
    "Here is a skeleton of the function. In the cell below you have to modify the function to work and return an array of the model function value for each x-value.\n",
    "```\n",
    "def vModel(Params, time):\n",
    "    amp = Params[0]\n",
    "    t0 = Params[1]\n",
    "    return # put your return function in here\n",
    "```\n",
    "\n",
    "** Modify the funtion below to return the function above. **"
   ]
  },
  {
   "cell_type": "code",
   "execution_count": 3,
   "metadata": {},
   "outputs": [],
   "source": [
    "def vModel(Params, time):\n",
    "    amp = Params[0]\n",
    "    t0 = Params[1]\n",
    "    return amp * np.sin(2*np.pi*(time - t0))"
   ]
  },
  {
   "cell_type": "markdown",
   "metadata": {},
   "source": [
    "## 2. Create Your Model and Data Wrappers\n",
    "For `odr` your function has to *wrapped* in a `Model` instance. This done by the code\n",
    "```\n",
    "myModel = odr.Model(vModel)\n",
    "```\n",
    "\n",
    "Your data array must also be wrapped, this time in a `Data` instance. You must supply an uncertainty for both the x- and y-values. If the uncertainty is the same for all of the x-values, `sx` can be set to a single value; likewise for `sy`. If either of them has individual uncertainties, then the corresponding `sx` or `sy` can be assigned an array of the same length as the data arrays.\n",
    "```\n",
    "myData = odr.RealData(time, volts, sx=0.01, sy=0.1)\n",
    "```\n",
    "\n",
    "** Cut and paste these code lines into the cell below and run the cell. **"
   ]
  },
  {
   "cell_type": "code",
   "execution_count": 4,
   "metadata": {},
   "outputs": [],
   "source": [
    "myModel = odr.Model(vModel)\n",
    "myData = odr.RealData(time, volts, sx=0.01, sy=0.1)"
   ]
  },
  {
   "cell_type": "markdown",
   "metadata": {},
   "source": [
    "## 3. Instantiate ODR with your data, model and initial parameter estimates\n",
    "\n",
    "You need one other piece of information, you initial guesses for the parameters. You usually do not need to be too close, but in the ball park. In this case, you can look at the data and guess that `amp` should be about `2.5`. You can guess the start time by guessing when the data crosses the x-axis. Let's say `0.2`. You have to create an array with your initial guesses.\n",
    "```\n",
    "initParams = np.array([2.5, 0.2])\n",
    "```\n",
    "\n",
    "Next you have to create an instance of `odr` using a call like\n",
    "```\n",
    "myOdr = odr.ODR(myData, myModel, beta0=initParams)\n",
    "```\n",
    "\n",
    "** Cut and paste these lines in the cell below and run the cell. **"
   ]
  },
  {
   "cell_type": "code",
   "execution_count": 5,
   "metadata": {},
   "outputs": [],
   "source": [
    "initParams = np.array([2.5, 0.2])\n",
    "myOdr = odr.ODR(myData, myModel, beta0=initParams)"
   ]
  },
  {
   "cell_type": "markdown",
   "metadata": {},
   "source": [
    "## 4. Run the Data Fit\n",
    "This is easy. Just run the code\n",
    "```\n",
    "myOutput = myOdr.run()\n",
    "```"
   ]
  },
  {
   "cell_type": "code",
   "execution_count": 6,
   "metadata": {},
   "outputs": [],
   "source": [
    "myOutput = myOdr.run()"
   ]
  },
  {
   "cell_type": "markdown",
   "metadata": {},
   "source": [
    "## 5. Look at the Results\n",
    "The `output` instance returned has all of the results as attributes, and the `pprint` (Pretty PRINT) method summarizes them in a nice format.\n",
    "\n",
    "Run the line \n",
    "\n",
    "`myOutput.pprint()` \n",
    "\n",
    "in the cell below to see the results.\n",
    "\n",
    "### Interpreting the Results\n",
    "The array `myOutput.beta` are the best fit values of the parameters. I like to create new variable with these these values for use later. The line \n",
    "```\n",
    "(ampFit, t0Fit) = myOutput.beta\n",
    "```\n",
    "creates two new variable in one compact line of code.\n",
    "\n",
    "A second very important result is the **uncertainty** in your fit parameters. These are returned in the attribute `myOutput.sd_beta`. Like the previous example, you can capture these by the code\n",
    "```\n",
    "(ampSD, t0SD) = myOutput.sd_beta\n",
    "```\n",
    "I like to clearly print these out for the use. I will capture the output in a string and print the string because I am going to use the string later in a plot. Copy and paste this code:\n",
    "```\n",
    "resultStr = \\\n",
    "r\"\"\"The amp is %.3f $\\pm$ %.3f\n",
    "The t0 is %.3f $\\pm$ %.3f\"\"\" % (ampFit, ampSD, t0Fit, t0SD)\n",
    "print resultStr\n",
    "```\n",
    "\n",
    "The *covariance* is how much the value of `amp` is correlated with the value of `t0`.\n",
    "\n",
    "The *residual variance* is the average distance the data points are from the model function.\n",
    "\n",
    "A final issue you should always check is the reason the fit stopped. If it isn't because the fit *converged*, then there may be a problem with the fit. If there is a problem, you need to check your data, your model function or look for another reason the fit did not converge.\n",
    "\n",
    "** Cut and paste the above code lines into the cell below and run the cell. **"
   ]
  },
  {
   "cell_type": "code",
   "execution_count": 7,
   "metadata": {},
   "outputs": [
    {
     "ename": "SyntaxError",
     "evalue": "Missing parentheses in call to 'print'. Did you mean print(resultStr)? (4236534402.py, line 7)",
     "output_type": "error",
     "traceback": [
      "\u001b[0;36m  Cell \u001b[0;32mIn[7], line 7\u001b[0;36m\u001b[0m\n\u001b[0;31m    print resultStr\u001b[0m\n\u001b[0m          ^\u001b[0m\n\u001b[0;31mSyntaxError\u001b[0m\u001b[0;31m:\u001b[0m Missing parentheses in call to 'print'. Did you mean print(resultStr)?\n"
     ]
    }
   ],
   "source": [
    "myOutput.pprint()\n",
    "(ampFit, t0Fit) = myOutput.beta\n",
    "(ampSD, t0SD) = myOutput.sd_beta\n",
    "resultStr = \\\n",
    "r\"\"\"The amp is %.3f $\\pm$ %.3f\n",
    "The t0 is %.3f $\\pm$ %.3f\"\"\" % (ampFit, ampSD, t0Fit, t0SD)\n",
    "print resultStr"
   ]
  },
  {
   "cell_type": "markdown",
   "metadata": {},
   "source": [
    "# Plotting Your Results\n",
    "By now you should be able to plot the data and the model on the same figure. Here are some hints:\n",
    "* The output array `myOutput.beta` has the best values for the parameters, so you can use that to calculate your model. I used the call `vModel(myOutput.beta,time)` right in my call to `ax.plot`.\n",
    "* I also used the method `ax.text` to write the best values right on my plot. The actual call is `ax.text(0.1,2.8,resultStr)`.\n",
    "\n",
    "This is how my final plot looked:\n",
    "![First Plot](./Skill-06b.png)\n",
    "\n",
    "Make your final plot in the cell below."
   ]
  },
  {
   "cell_type": "code",
   "execution_count": 8,
   "metadata": {},
   "outputs": [
    {
     "ename": "NameError",
     "evalue": "name 'resultStr' is not defined",
     "output_type": "error",
     "traceback": [
      "\u001b[0;31m---------------------------------------------------------------------------\u001b[0m",
      "\u001b[0;31mNameError\u001b[0m                                 Traceback (most recent call last)",
      "Cell \u001b[0;32mIn[8], line 10\u001b[0m\n\u001b[1;32m      8\u001b[0m ax1\u001b[38;5;241m.\u001b[39mset_xlim(\u001b[38;5;241m0\u001b[39m,\u001b[38;5;241m2\u001b[39m)\n\u001b[1;32m      9\u001b[0m ax1\u001b[38;5;241m.\u001b[39mplot(time,vModel(myOutput\u001b[38;5;241m.\u001b[39mbeta, time),\u001b[38;5;124m'\u001b[39m\u001b[38;5;124m-g\u001b[39m\u001b[38;5;124m'\u001b[39m, label\u001b[38;5;241m=\u001b[39m\u001b[38;5;124m\"\u001b[39m\u001b[38;5;124mInput\u001b[39m\u001b[38;5;124m\"\u001b[39m)\n\u001b[0;32m---> 10\u001b[0m ax1\u001b[38;5;241m.\u001b[39mtext(\u001b[38;5;241m0.1\u001b[39m,\u001b[38;5;241m3\u001b[39m,\u001b[43mresultStr\u001b[49m)\n\u001b[1;32m     11\u001b[0m jnk \u001b[38;5;241m=\u001b[39m ax1\u001b[38;5;241m.\u001b[39mlegend()\n",
      "\u001b[0;31mNameError\u001b[0m: name 'resultStr' is not defined"
     ]
    },
    {
     "data": {
      "image/png": "[encoded data removed]",
      "text/plain": [
       "<Figure size 640x480 with 1 Axes>"
      ]
     },
     "metadata": {},
     "output_type": "display_data"
    }
   ],
   "source": [
    "fig = plt.figure()\n",
    "ax1 = fig.add_subplot(111)\n",
    "ax1.plot(time, volts, '.b', label='Data')\n",
    "ax1.set_title(\"Amplifier Output\")\n",
    "ax1.set_ylabel(\"Output (V)\")\n",
    "ax1.set_xlabel(\"Time (s)\")\n",
    "ax1.set_ylim(-3,4)\n",
    "ax1.set_xlim(0,2)\n",
    "ax1.plot(time,vModel(myOutput.beta, time),'-g', label=\"Input\")\n",
    "ax1.text(0.1,3,resultStr)\n",
    "jnk = ax1.legend()"
   ]
  },
  {
   "cell_type": "markdown",
   "metadata": {},
   "source": [
    "## Fixing Some Parameters\n",
    "Sometimes when you fit data, you want to fix some of the parameters in your function. `odr` allows you to do that easily with the run paramter `ifixb`. For example in this case is you know your output amplitude is 2.5, you can fix that parameter and let `odr` find the best value for `t0`. All you have to do is add a parameter `ifixb=[0,1]` to the the method call `odr.ODR`. \n",
    "\n",
    "In the cell below do the fit with `amp` fixed at the value `2.5`. Make a plot of the data and model using your result."
   ]
  },
  {
   "cell_type": "code",
   "execution_count": 9,
   "metadata": {},
   "outputs": [
    {
     "ename": "SyntaxError",
     "evalue": "Missing parentheses in call to 'print'. Did you mean print(resultStr)? (3578710152.py, line 9)",
     "output_type": "error",
     "traceback": [
      "\u001b[0;36m  Cell \u001b[0;32mIn[9], line 9\u001b[0;36m\u001b[0m\n\u001b[0;31m    print resultStr\u001b[0m\n\u001b[0m          ^\u001b[0m\n\u001b[0;31mSyntaxError\u001b[0m\u001b[0;31m:\u001b[0m Missing parentheses in call to 'print'. Did you mean print(resultStr)?\n"
     ]
    }
   ],
   "source": [
    "myOdr = odr.ODR(myData, myModel, beta0=initParams, ifixb=[0,1])\n",
    "myOutput = myOdr.run()\n",
    "myOutput.pprint()\n",
    "(ampFit, t0Fit) = myOutput.beta\n",
    "(ampSD, t0SD) = myOutput.sd_beta\n",
    "resultStr = \\\n",
    "r\"\"\"The amp is %.3f Fixed\n",
    "The t0 is %.3f $\\pm$ %.3f\"\"\" % (ampFit, t0Fit, t0SD)\n",
    "print resultStr\n",
    "fig = plt.figure()\n",
    "ax1 = fig.add_subplot(111)\n",
    "ax1.plot(time, volts, '.b', label='Data')\n",
    "ax1.set_title(\"Amplifier Output\")\n",
    "ax1.set_ylabel(\"Output (V)\")\n",
    "ax1.set_xlabel(\"Time (s)\")\n",
    "ax1.set_ylim(-3,4)\n",
    "ax1.set_xlim(0,2)\n",
    "ax1.plot(time,vModel(myOutput.beta, time),'-g', label=\"Input\")\n",
    "ax1.text(0.1,3,resultStr)\n",
    "jnk = ax1.legend()"
   ]
  },
  {
   "cell_type": "markdown",
   "metadata": {},
   "source": [
    "# Using Two X-Axes\n",
    "\n",
    "Some times you only have a few data points you are fitting, but you want to draw a smooth model curve with you data. In the cell below I've created an example with just a few data points and fit a model to the data. You should  plot the data and model. You will see the model is a set of straight line segments between data points that do not look very good.\n",
    "\n",
    "** Modify the code below to make a plotting axis. **"
   ]
  },
  {
   "cell_type": "code",
   "execution_count": 10,
   "metadata": {},
   "outputs": [
    {
     "ename": "SyntaxError",
     "evalue": "Missing parentheses in call to 'print'. Did you mean print(resultStr2)? (2355968479.py, line 16)",
     "output_type": "error",
     "traceback": [
      "\u001b[0;36m  Cell \u001b[0;32mIn[10], line 16\u001b[0;36m\u001b[0m\n\u001b[0;31m    print resultStr2\u001b[0m\n\u001b[0m          ^\u001b[0m\n\u001b[0;31mSyntaxError\u001b[0m\u001b[0;31m:\u001b[0m Missing parentheses in call to 'print'. Did you mean print(resultStr2)?\n"
     ]
    }
   ],
   "source": [
    "np.random.seed(4321)\n",
    "tData2 = np.array([0.0,.15,.3,.6,.8,1.2,1.4,1.7,2])\n",
    "vData2 = 2.1 * np.sin(2 * np.pi * tData2 - 1.2) + np.random.normal(0,0.1,len(tData2))\n",
    "myData2 = odr.RealData(tData2, vData2, sx=0.02, sy=0.1)\n",
    "initParams2 = np.array([2.5,.1])\n",
    "myOdr2 = odr.ODR(myData2, myModel, initParams2)\n",
    "myOutput2 = myOdr2.run()\n",
    "myOutput2.pprint()\n",
    "(ampFit2, t0Fit2) = myOutput2.beta\n",
    "(ampSD2, t0SD2) = myOutput2.sd_beta\n",
    "resultStr2 = \\\n",
    "r\"\"\"The amp is %.3f $\\pm$ %.3f\n",
    "The t0 is %.3f $\\pm$ %.3f\"\"\" % \\\n",
    "  (ampFit2, ampSD2, t0Fit2, t0SD2)\n",
    "print\n",
    "print resultStr2"
   ]
  },
  {
   "cell_type": "markdown",
   "metadata": {},
   "source": [
    "** Now plot your data in the cell below. **"
   ]
  },
  {
   "cell_type": "code",
   "execution_count": 11,
   "metadata": {},
   "outputs": [
    {
     "ename": "NameError",
     "evalue": "name 'tData2' is not defined",
     "output_type": "error",
     "traceback": [
      "\u001b[0;31m---------------------------------------------------------------------------\u001b[0m",
      "\u001b[0;31mNameError\u001b[0m                                 Traceback (most recent call last)",
      "Cell \u001b[0;32mIn[11], line 3\u001b[0m\n\u001b[1;32m      1\u001b[0m fig \u001b[38;5;241m=\u001b[39m plt\u001b[38;5;241m.\u001b[39mfigure()\n\u001b[1;32m      2\u001b[0m ax1 \u001b[38;5;241m=\u001b[39m fig\u001b[38;5;241m.\u001b[39madd_subplot(\u001b[38;5;241m111\u001b[39m)\n\u001b[0;32m----> 3\u001b[0m ax1\u001b[38;5;241m.\u001b[39mplot(\u001b[43mtData2\u001b[49m, vData2, \u001b[38;5;124m'\u001b[39m\u001b[38;5;124m.b\u001b[39m\u001b[38;5;124m'\u001b[39m, label\u001b[38;5;241m=\u001b[39m\u001b[38;5;124m'\u001b[39m\u001b[38;5;124mRun 2\u001b[39m\u001b[38;5;124m'\u001b[39m)\n\u001b[1;32m      4\u001b[0m ax1\u001b[38;5;241m.\u001b[39mset_title(\u001b[38;5;124m\"\u001b[39m\u001b[38;5;124mAmplifier Output\u001b[39m\u001b[38;5;124m\"\u001b[39m)\n\u001b[1;32m      5\u001b[0m ax1\u001b[38;5;241m.\u001b[39mset_ylabel(\u001b[38;5;124m\"\u001b[39m\u001b[38;5;124mOutput (V)\u001b[39m\u001b[38;5;124m\"\u001b[39m)\n",
      "\u001b[0;31mNameError\u001b[0m: name 'tData2' is not defined"
     ]
    },
    {
     "data": {
      "image/png": "[encoded data removed]",
      "text/plain": [
       "<Figure size 640x480 with 1 Axes>"
      ]
     },
     "metadata": {},
     "output_type": "display_data"
    }
   ],
   "source": [
    "fig = plt.figure()\n",
    "ax1 = fig.add_subplot(111)\n",
    "ax1.plot(tData2, vData2, '.b', label='Run 2')\n",
    "ax1.set_title(\"Amplifier Output\")\n",
    "ax1.set_ylabel(\"Output (V)\")\n",
    "ax1.set_xlabel(\"Time (s)\")\n",
    "ax1.set_ylim(-3,4)\n",
    "ax1.set_xlim(0,2)\n",
    "ax1.plot(tData2, vModel(myOutput2.beta, tData2),'-g', label=\"Input\")\n",
    "ax1.text(0.1,3,resultStr)\n",
    "jnk = ax1.legend()"
   ]
  },
  {
   "cell_type": "markdown",
   "metadata": {},
   "source": [
    "That doesn't look very good, does it? \n",
    "\n",
    "The solution to making a better plot is to make an additional x-axis for plotting that has enough points to create a smooth model curve. Try making an array like this\n",
    "\n",
    "`tPlot = np.linspace(0.0, 2.0, 501)`\n",
    "\n",
    "then plot the fit function using this plotting axis.\n",
    "\n",
    "\n",
    "Your plot should look similar this: \n",
    "![First Plot](./Skill-06c.png)"
   ]
  },
  {
   "cell_type": "code",
   "execution_count": 12,
   "metadata": {},
   "outputs": [
    {
     "ename": "NameError",
     "evalue": "name 'tData2' is not defined",
     "output_type": "error",
     "traceback": [
      "\u001b[0;31m---------------------------------------------------------------------------\u001b[0m",
      "\u001b[0;31mNameError\u001b[0m                                 Traceback (most recent call last)",
      "Cell \u001b[0;32mIn[12], line 4\u001b[0m\n\u001b[1;32m      2\u001b[0m fig \u001b[38;5;241m=\u001b[39m plt\u001b[38;5;241m.\u001b[39mfigure()\n\u001b[1;32m      3\u001b[0m ax1 \u001b[38;5;241m=\u001b[39m fig\u001b[38;5;241m.\u001b[39madd_subplot(\u001b[38;5;241m111\u001b[39m)\n\u001b[0;32m----> 4\u001b[0m ax1\u001b[38;5;241m.\u001b[39mplot(\u001b[43mtData2\u001b[49m, vData2, \u001b[38;5;124m'\u001b[39m\u001b[38;5;124m.b\u001b[39m\u001b[38;5;124m'\u001b[39m, label\u001b[38;5;241m=\u001b[39m\u001b[38;5;124m'\u001b[39m\u001b[38;5;124mRun 2\u001b[39m\u001b[38;5;124m'\u001b[39m)\n\u001b[1;32m      5\u001b[0m ax1\u001b[38;5;241m.\u001b[39mset_title(\u001b[38;5;124m\"\u001b[39m\u001b[38;5;124mAmplifier Output\u001b[39m\u001b[38;5;124m\"\u001b[39m)\n\u001b[1;32m      6\u001b[0m ax1\u001b[38;5;241m.\u001b[39mset_ylabel(\u001b[38;5;124m\"\u001b[39m\u001b[38;5;124mOutput (V)\u001b[39m\u001b[38;5;124m\"\u001b[39m)\n",
      "\u001b[0;31mNameError\u001b[0m: name 'tData2' is not defined"
     ]
    },
    {
     "data": {
      "image/png": "[encoded data removed]",
      "text/plain": [
       "<Figure size 640x480 with 1 Axes>"
      ]
     },
     "metadata": {},
     "output_type": "display_data"
    }
   ],
   "source": [
    "tPlot = np.linspace(0,2.0, 501)\n",
    "fig = plt.figure()\n",
    "ax1 = fig.add_subplot(111)\n",
    "ax1.plot(tData2, vData2, '.b', label='Run 2')\n",
    "ax1.set_title(\"Amplifier Output\")\n",
    "ax1.set_ylabel(\"Output (V)\")\n",
    "ax1.set_xlabel(\"Time (s)\")\n",
    "ax1.set_ylim(-3,4)\n",
    "ax1.set_xlim(0,2)\n",
    "ax1.plot(tPlot, vModel(myOutput2.beta, tPlot),'-g', label=\"Input\")\n",
    "ax1.text(0.1,3,resultStr)\n",
    "jnk = ax1.legend()"
   ]
  },
  {
   "cell_type": "markdown",
   "metadata": {},
   "source": [
    "# Other Topics\n",
    "There are many other data fitting topics I won't cover. You can Google them to find out. Here are some:\n",
    "* **Error Bars** Sometimes you want to plot error bars on your data\n",
    "* Correlated fit parameters"
   ]
  },
  {
   "cell_type": "code",
   "execution_count": null,
   "metadata": {},
   "outputs": [],
   "source": [
    "from IPython.core.display import HTML\n",
    "def css_styling():\n",
    "    styles = open(\"custom.css\", \"r\").read()\n",
    "    return HTML(styles)\n",
    "css_styling()"
   ]
  },
  {
   "cell_type": "code",
   "execution_count": null,
   "metadata": {
    "collapsed": true
   },
   "outputs": [],
   "source": []
  }
 ],
 "metadata": {
  "anaconda-cloud": {},
  "kernelspec": {
   "display_name": "Python 3 (ipykernel)",
   "language": "python",
   "name": "python3"
  },
  "language_info": {
   "codemirror_mode": {
    "name": "ipython",
    "version": 3
   },
   "file_extension": ".py",
   "mimetype": "text/x-python",
   "name": "python",
   "nbconvert_exporter": "python",
   "pygments_lexer": "ipython3",
   "version": "3.8.13"
  }
 },
 "nbformat": 4,
 "nbformat_minor": 1
}
