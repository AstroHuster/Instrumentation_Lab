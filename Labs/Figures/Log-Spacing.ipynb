{
 "cells": [
  {
   "cell_type": "code",
   "execution_count": 3,
   "id": "11f91ac9-776b-403b-a515-5e062fa6cde9",
   "metadata": {},
   "outputs": [],
   "source": [
    "import numpy as np"
   ]
  },
  {
   "cell_type": "code",
   "execution_count": 13,
   "id": "077b1747-6b8b-4ff9-8feb-dc7753da3d07",
   "metadata": {},
   "outputs": [
    {
     "name": "stdout",
     "output_type": "stream",
     "text": [
      "    100.00, Hz\n",
      "    125.89, Hz\n",
      "    158.49, Hz\n",
      "    199.53, Hz\n",
      "    251.19, Hz\n",
      "    316.23, Hz\n",
      "    398.11, Hz\n",
      "    501.19, Hz\n",
      "    630.96, Hz\n",
      "    794.33, Hz\n",
      "   1000.00, Hz\n",
      "   1258.93, Hz\n",
      "   1584.89, Hz\n",
      "   1995.26, Hz\n",
      "   2511.89, Hz\n",
      "   3162.28, Hz\n",
      "   3981.07, Hz\n",
      "   5011.87, Hz\n",
      "   6309.57, Hz\n",
      "   7943.28, Hz\n",
      "  10000.00, Hz\n"
     ]
    }
   ],
   "source": [
    "freq_start =   100.0\n",
    "freq_stop  = 10000.0\n",
    "n_freq = 21\n",
    "\n",
    "freq_steps = np.linspace(np.log(freq_start), np.log(freq_stop), n_freq)\n",
    "for freq_log in freq_steps:\n",
    "\tfreq = np.exp(freq_log)\n",
    "\tprint(f\"{freq:10.2f}, Hz\")"
   ]
  },
  {
   "cell_type": "code",
   "execution_count": null,
   "id": "7f4eb5dc-937c-434d-b003-7530f29a844c",
   "metadata": {},
   "outputs": [],
   "source": []
  }
 ],
 "metadata": {
  "kernelspec": {
   "display_name": "Python 3 (ipykernel)",
   "language": "python",
   "name": "python3"
  },
  "language_info": {
   "codemirror_mode": {
    "name": "ipython",
    "version": 3
   },
   "file_extension": ".py",
   "mimetype": "text/x-python",
   "name": "python",
   "nbconvert_exporter": "python",
   "pygments_lexer": "ipython3",
   "version": "3.10.12"
  }
 },
 "nbformat": 4,
 "nbformat_minor": 5
}
