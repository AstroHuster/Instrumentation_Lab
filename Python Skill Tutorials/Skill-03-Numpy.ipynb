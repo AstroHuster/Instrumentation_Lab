{
 "cells": [
  {
   "cell_type": "markdown",
   "metadata": {},
   "source": [
    "# Skill Homework #3\n",
    "# Modules, `Numpy`, and Reading & Writing Data Files\n",
    "----\n",
    "# Modules (Libraries)\n",
    "One of the most important concepts in good programming is to reuse code and avoid repetitions.\n",
    "\n",
    "The idea is to write functions and classes with a well-defined purpose and scope, and reuse these instead of repeating similar code in different part of a program (modular programming). The result is usually that readability and maintainability of a program is greatly improved. What this means in practice is that our programs have fewer bugs, are easier to extend and debug/troubleshoot.\n",
    "\n",
    "These packages of reusable code are called *modules* in python. Other languages refer to them as *libraries* or *include* files.\n",
    "\n",
    "Python supports modular programming at different levels. Functions and classes are examples of tools for low-level modular programming. Python modules are a higher-level modular programming construct, where we can collect related variables, functions and classes in a module. A python module is defined in a python file (with file-ending `.py`), and it can be made accessible to other Python modules and programs using the `import` statement. \n",
    "\n",
    "Consider the following example based on the previous homework: the file `mymodule.py` contains simple example implementations of a variable and a function. The curious line `%%file game.py` is a jupyter command (not a python command) that writes the code in the cell to the file `game.py`.\n",
    "\n",
    "Run the cell below."
   ]
  },
  {
   "cell_type": "code",
   "execution_count": 1,
   "metadata": {
    "collapsed": false
   },
   "outputs": [
    {
     "name": "stdout",
     "output_type": "stream",
     "text": [
      "Overwriting mymodule.py\n"
     ]
    }
   ],
   "source": [
    "%%file mymodule.py\n",
    "\"\"\"\n",
    "Example of a python module. Contains a variable called answer,\n",
    "and a function called game.\n",
    "\n",
    "The triple quotes are python's way of creating a multiple line string.\n",
    "The convention for modules is that the should have a multiple line string\n",
    "at the beginning of the module file that contains information on the\n",
    "module.\n",
    "\n",
    "Version 19a - Converted to python 3\n",
    "\"\"\"\n",
    "\n",
    "import random as r\n",
    "\n",
    "answer = r.randint(1,10)\n",
    "\n",
    "def game():\n",
    "    global answer\n",
    "    done = False\n",
    "    nGuesses = 0\n",
    "    while not done:\n",
    "        guess = int(input(\"Enter a guess from 1 to 10: \"))\n",
    "        nGuesses += 1\n",
    "        if guess > answer:\n",
    "            print(\"Your guess is too big\")\n",
    "        elif guess == answer:\n",
    "            print(\"Correct!\")\n",
    "            done = True\n",
    "        else:\n",
    "            print(\"Your guess is too small\")\n",
    "\n",
    "        if done == True:\n",
    "            print(\"Game over, it took you \", nGuesses, \" guesses to get the right answer\")\n",
    "            # generate a new answer\n",
    "            answer = r.randint(1,10)\n",
    "    return"
   ]
  },
  {
   "cell_type": "markdown",
   "metadata": {},
   "source": [
    "## Importing a Module and Getting Help\n",
    "To use a module, you have to *import* it. The `import` statement has the syntax\n",
    "```\n",
    "import module\n",
    "```\n",
    "or\n",
    "```\n",
    "import module as name\n",
    "```\n",
    "where the second form allows you to abbreviate the name of the module. If you look at the code for `mymodule` above, you can see I imported the module `random` and gave it a shorter name of `r`.\n",
    "\n",
    "## Module `help`\n",
    "If the author of a module has been kind, then they included an information string at the top of the module like I did above in `mymodule`. All modules distributed with python have these strings (called `docstrings`.) These are part of python's help system. You can type `help()` at a python prompt to get an interactive help. Type `quit` to quit.\n",
    "\n",
    "In the cell below import `mymodule` and type `help(mymodule)`."
   ]
  },
  {
   "cell_type": "code",
   "execution_count": 2,
   "metadata": {
    "collapsed": false
   },
   "outputs": [
    {
     "name": "stdout",
     "output_type": "stream",
     "text": [
      "Help on module mymodule:\n",
      "\n",
      "NAME\n",
      "    mymodule\n",
      "\n",
      "DESCRIPTION\n",
      "    Example of a python module. Contains a variable called answer,\n",
      "    and a function called game.\n",
      "    \n",
      "    The triple quotes are python's way of creating a multiple line string.\n",
      "    The convention for modules is that the should have a multiple line string\n",
      "    at the beginning of the module file that contains information on the\n",
      "    module.\n",
      "    \n",
      "    Version 19a - Converted to python 3\n",
      "\n",
      "FUNCTIONS\n",
      "    game()\n",
      "\n",
      "DATA\n",
      "    answer = 5\n",
      "\n",
      "FILE\n",
      "    /Users/michaelhuster/Dropbox/PHYS 464 Advanced Lab/Skill Tutorials/mymodule.py\n",
      "\n",
      "\n"
     ]
    }
   ],
   "source": [
    "import mymodule\n",
    "help(mymodule)"
   ]
  },
  {
   "cell_type": "markdown",
   "metadata": {},
   "source": [
    "## Accessing a Module\n",
    "To access functions and variables in a module you use the syntax `module.function`, for example. Run the game in `mymodule` in the cell below by executing `mymodule.game()`."
   ]
  },
  {
   "cell_type": "code",
   "execution_count": 3,
   "metadata": {
    "collapsed": false
   },
   "outputs": [
    {
     "name": "stdout",
     "output_type": "stream",
     "text": [
      "5\n",
      "Enter a guess from 1 to 10: 5\n",
      "Correct!\n",
      "Game over, it took you  1  guesses to get the right answer\n"
     ]
    }
   ],
   "source": [
    "print(mymodule.answer)\n",
    "mymodule.game()"
   ]
  },
  {
   "cell_type": "markdown",
   "metadata": {},
   "source": [
    "### Cheating\n",
    "BTW, you could cheat in the game above by printing `mymodule.answer` before playing the game."
   ]
  },
  {
   "cell_type": "markdown",
   "metadata": {},
   "source": [
    "# `numpy` the Mad-Good Math Module\n",
    "\n",
    "Ok. You have come this far in the python skills homework without doing anything math-like. That is because most of the great numerical stuff is a module called `numpy`. \n",
    "\n",
    "The `numpy` module is used in almost all numerical computation using Python. It is a package that provide high-performance vector, matrix and higher-dimensional data structures for Python. It is implemented in C and Fortran so when calculations are vectorized (formulated with vectors and matrices), performance is very good.\n",
    "\n",
    "(By the way, it is modeled on MATLAB, so the usage is very similar to that commercial program. MATLAB is a very commonly used program in engineering companies.)\n",
    "\n",
    "To use `numpy` you need to import the module, so run the following line in the cell below:\n",
    "```\n",
    "import numpy as np\n",
    "```\n",
    "BTW, this is the standard way `numpy` is imported."
   ]
  },
  {
   "cell_type": "code",
   "execution_count": 4,
   "metadata": {
    "collapsed": false,
    "scrolled": false
   },
   "outputs": [],
   "source": [
    "import numpy as np"
   ]
  },
  {
   "cell_type": "markdown",
   "metadata": {},
   "source": [
    "**array**s are at the heart of the numpy module.\n",
    "\n",
    "In the `numpy` package the terminology used for vectors, matrices and higher-dimensional data sets is *array*.\n",
    "\n",
    "## Creating `numpy` arrays\n",
    "\n",
    "There are a number of ways to initialize new numpy arrays, for example from\n",
    "* a Python list or tuples\n",
    "* using functions that are dedicated to generating numpy arrays, such as `arange`, `linspace`, etc.\n",
    "* reading data from files\n",
    "\n",
    "## From lists\n",
    "For example, to create new vector and matrix arrays from Python lists we can use the `numpy` `array` function. For example\n",
    "```\n",
    "xPosition = np.array([0.0, 1, 2, 4])\n",
    "```\n",
    "In `numpy` arrays all the items have the same data type, and that type is determined by the longest data type in the list. Note that that one item was a `float` by using `0.0`. If I did not do that, the array would all be `int`s.\n",
    "\n",
    "In the cell below, create the array `xPosition`, then print is out. Also print the type of `xPosition` by runnning the line `print(type(xPosition))`. (The `type()` function works on everything in python."
   ]
  },
  {
   "cell_type": "code",
   "execution_count": 5,
   "metadata": {
    "collapsed": false
   },
   "outputs": [
    {
     "name": "stdout",
     "output_type": "stream",
     "text": [
      "[0. 1. 2. 4.]\n",
      "<class 'numpy.ndarray'>\n"
     ]
    }
   ],
   "source": [
    "xPosition = np.array([0.0, 1, 2, 4])\n",
    "print(xPosition)\n",
    "print(type(xPosition))"
   ]
  },
  {
   "cell_type": "markdown",
   "metadata": {},
   "source": [
    "Note that all of the numbers had a trailing decimal point confirming that they are all `float`s.\n",
    "\n",
    "## From functions\n",
    "Some commonly used `numpy` functions to create arrays are `linspace`, `arange`, `zeros`, and `ones`.\n",
    "\n",
    "The function `linspace` has the usage `linspace(start, stop, nPoints)`. The last argument is optional; if you do not supply it, you get 50 elements in the array. The first element is `start`, and the last element is `last`. The default type is `float`. Create an array named `x` using `linspace(0,10)` and one named `y` using `linspace(0,10,51)`. Print them out. \n",
    "\n",
    "Which one has nice even values in it? And why? \n",
    "\n",
    "*Hint*: (Don't forget the `np.` before the function name.)"
   ]
  },
  {
   "cell_type": "code",
   "execution_count": 6,
   "metadata": {
    "collapsed": false
   },
   "outputs": [
    {
     "name": "stdout",
     "output_type": "stream",
     "text": [
      "[ 0.          0.20408163  0.40816327  0.6122449   0.81632653  1.02040816\n",
      "  1.2244898   1.42857143  1.63265306  1.83673469  2.04081633  2.24489796\n",
      "  2.44897959  2.65306122  2.85714286  3.06122449  3.26530612  3.46938776\n",
      "  3.67346939  3.87755102  4.08163265  4.28571429  4.48979592  4.69387755\n",
      "  4.89795918  5.10204082  5.30612245  5.51020408  5.71428571  5.91836735\n",
      "  6.12244898  6.32653061  6.53061224  6.73469388  6.93877551  7.14285714\n",
      "  7.34693878  7.55102041  7.75510204  7.95918367  8.16326531  8.36734694\n",
      "  8.57142857  8.7755102   8.97959184  9.18367347  9.3877551   9.59183673\n",
      "  9.79591837 10.        ]\n",
      "[ 0.   0.2  0.4  0.6  0.8  1.   1.2  1.4  1.6  1.8  2.   2.2  2.4  2.6\n",
      "  2.8  3.   3.2  3.4  3.6  3.8  4.   4.2  4.4  4.6  4.8  5.   5.2  5.4\n",
      "  5.6  5.8  6.   6.2  6.4  6.6  6.8  7.   7.2  7.4  7.6  7.8  8.   8.2\n",
      "  8.4  8.6  8.8  9.   9.2  9.4  9.6  9.8 10. ]\n"
     ]
    }
   ],
   "source": [
    "x = np.linspace(0,10)\n",
    "print(x)\n",
    "y = np.linspace(0, 10, 51)\n",
    "print(y)"
   ]
  },
  {
   "cell_type": "markdown",
   "metadata": {},
   "source": [
    "# Length, Size, and Shape\n",
    "`Numpy` arrays are not limited to being linear; they can be two or even higher dimensional. For example, try\n",
    "```\n",
    "matrix = np.array([[0.0,1,2],[3,4,5]])\n",
    "print(matrix)\n",
    "```\n",
    "makes a two-dimensional matrix that is three columns long and two rows high. Go ahead and run this in the cell below."
   ]
  },
  {
   "cell_type": "code",
   "execution_count": 7,
   "metadata": {
    "collapsed": false
   },
   "outputs": [
    {
     "name": "stdout",
     "output_type": "stream",
     "text": [
      "[[0. 1. 2.]\n",
      " [3. 4. 5.]]\n"
     ]
    }
   ],
   "source": [
    "matrix = np.array([[0.0,1,2],[3,4,5]])\n",
    "print(matrix)"
   ]
  },
  {
   "cell_type": "markdown",
   "metadata": {},
   "source": [
    "You can access elements by having two indexes between the brackets `[` and `]`. Print out elements `matrix[0,1]` and `matrix[1,0]` in the cell below."
   ]
  },
  {
   "cell_type": "code",
   "execution_count": 8,
   "metadata": {
    "collapsed": false,
    "scrolled": true
   },
   "outputs": [
    {
     "name": "stdout",
     "output_type": "stream",
     "text": [
      "1.0\n",
      "3.0\n"
     ]
    }
   ],
   "source": [
    "print(matrix[0,1])\n",
    "print(matrix[1,0])"
   ]
  },
  {
   "cell_type": "markdown",
   "metadata": {},
   "source": [
    "# Element-Wise Operations\n",
    "Arrays (1D and multidimensional) do not behave like matrices when they are a part of mathematical operations. Instead, the operations happen element by element. To help you see this run the following code:\n",
    "```\n",
    "time = np.linspace(0,5,6)\n",
    "print(\"time = \", time)\n",
    "print(\"2 * time = \", 2 * time)\n",
    "xPos1 = 1 + 2 * time\n",
    "print(\"xPos1 = \", xPos1)\n",
    "xPos2 = 2 * time**2 # remember ** is raise to a power.\n",
    "print(\"xPos2 = \", xPos2)\n",
    "```\n",
    "Run this in the cell below."
   ]
  },
  {
   "cell_type": "code",
   "execution_count": 9,
   "metadata": {
    "collapsed": false
   },
   "outputs": [
    {
     "name": "stdout",
     "output_type": "stream",
     "text": [
      "time =  [0. 1. 2. 3. 4. 5.]\n",
      "2 * time =  [ 0.  2.  4.  6.  8. 10.]\n",
      "xPos1 =  [ 1.  3.  5.  7.  9. 11.]\n",
      "xPos2 =  [ 0.  2.  8. 18. 32. 50.]\n"
     ]
    }
   ],
   "source": [
    "time = np.linspace(0,5,6)\n",
    "print(\"time = \", time)\n",
    "print(\"2 * time = \", 2 * time)\n",
    "xPos1 = 1 + 2 * time\n",
    "print(\"xPos1 = \", xPos1)\n",
    "xPos2 = 2 * time**2 # remember ** is raise to a power.\n",
    "print(\"xPos2 = \", xPos2)"
   ]
  },
  {
   "cell_type": "markdown",
   "metadata": {},
   "source": [
    "Make sure you understand the results before you move on.\n",
    "\n",
    "## Operating on Two (or More) Arrays\n",
    "Next, two arrays can be operated on. for example, from the previous array you can calculate, for example\n",
    "```\n",
    "newX = xPos1 + xPos2\n",
    "xProd = xPos1 * xPos2\n",
    "```\n",
    "One caution: for these operations to work, both operand arrays must have exactly the same shape. Try these below, print out the result for each, and you will see the result has the same shape as each operand."
   ]
  },
  {
   "cell_type": "code",
   "execution_count": 10,
   "metadata": {
    "collapsed": false
   },
   "outputs": [
    {
     "name": "stdout",
     "output_type": "stream",
     "text": [
      "newX =  [ 1.  5. 13. 25. 41. 61.]\n",
      "xProd =  [  0.   6.  40. 126. 288. 550.]\n"
     ]
    }
   ],
   "source": [
    "newX = xPos1 + xPos2\n",
    "print(\"newX = \", newX)\n",
    "xProd = xPos1 * xPos2\n",
    "print(\"xProd = \", xProd)"
   ]
  },
  {
   "cell_type": "markdown",
   "metadata": {},
   "source": [
    "## Other Operations\n",
    "Almost any other operation you can image will work like this, including subtraction, division, remainder, even comparison operations. These can be strung together. As an example in the cell below print out the polynomial `1 + 2 * xPos1 + 3 * xPos **2`"
   ]
  },
  {
   "cell_type": "code",
   "execution_count": 11,
   "metadata": {
    "collapsed": false
   },
   "outputs": [
    {
     "name": "stdout",
     "output_type": "stream",
     "text": [
      "[  6.  34.  86. 162. 262. 386.]\n"
     ]
    }
   ],
   "source": [
    "print(1 + 2 * xPos1 + 3 * xPos1 **2)"
   ]
  },
  {
   "cell_type": "markdown",
   "metadata": {},
   "source": [
    "# Higher Math Functions\n",
    "The `numpy` module also provides functions that operate on arrays and return array. (You can write these functions, too, with some care.) All of the functions you know and love, like `sqrt`, `sin`, `cos`, `exp`, `atan`, and many more are in the `numpy` module. to use these you have to use the `np.fcn` syntax. For example `print np.sin(time)` will calculate the `sin` of the variable `time` you created earlier.\n",
    "\n",
    "Go ahead and try the `sin` example. Also print out $\\sin(time)^2 + \\cos(time)^2$ as well. (What should you get for this?) You should be able to guess the answer for that.\n",
    "\n",
    "The number $\\pi$ is also defined ar np.pi. Print it out, too."
   ]
  },
  {
   "cell_type": "code",
   "execution_count": 12,
   "metadata": {
    "collapsed": false
   },
   "outputs": [
    {
     "name": "stdout",
     "output_type": "stream",
     "text": [
      "[ 0.          0.84147098  0.90929743  0.14112001 -0.7568025  -0.95892427]\n",
      "[1. 1. 1. 1. 1. 1.]\n",
      "3.141592653589793\n"
     ]
    }
   ],
   "source": [
    "print(np.sin(time))\n",
    "print(np.sin(time)**2 + np.cos(time)**2)\n",
    "print(np.pi)"
   ]
  },
  {
   "cell_type": "markdown",
   "metadata": {},
   "source": [
    "# Statistical Functions\n",
    "Once you have taken some data, the first business is to answer some basic statistical questions about the data. The most common are what is the min, max, and average. You also often want to know what is the standard deviation of the average is. `numpy` has functions to do these basic statistical calculations. The maximum and minimum functions are `np.max` and `np.min`; the average and standard deviation functions are `np.average` and `np.std`. The standard deviation of the average is standard deviation of the data divided by the number of points. (Remember the `len` function?)\n",
    "\n",
    "In the cell below print out the max, min, average, standard deviation of the average and standard deviation of the data `newX`."
   ]
  },
  {
   "cell_type": "code",
   "execution_count": 13,
   "metadata": {
    "collapsed": false
   },
   "outputs": [
    {
     "name": "stdout",
     "output_type": "stream",
     "text": [
      "Min =  1.0\n",
      "Max =  61.0\n",
      "Avg =  24.333333333333332\n",
      "Sigma(avg) =  3.515398226568083\n",
      "Sigma =  21.0923893594085\n"
     ]
    }
   ],
   "source": [
    "print(\"Min = \", np.min(newX))\n",
    "print(\"Max = \", np.max(newX))\n",
    "print(\"Avg = \", np.average(newX))\n",
    "print(\"Sigma(avg) = \", np.std(newX)/len(newX))\n",
    "print(\"Sigma = \", np.std(newX))"
   ]
  },
  {
   "cell_type": "markdown",
   "metadata": {},
   "source": [
    "## Formating Strings\n",
    "Python has two ways of printing formatted numbers. I will just show the the older traditional method.\n",
    "\n",
    "Another topic that can get tedious is how to format output, print, and strings. The simplest structure of a format string is something like `%f` where the `f` means format a `float`. Format strings also take one or more precision numbers. Here are example of some commonly used format strings:\n",
    "* \"%.2f\" - `float` with two decimal places\n",
    "* \"%6d\" - `int` or `long` printed in 6 spaces.\n",
    "* \"%.3e\" - `float` as an exponential with three decimal places, like \"3.142e0\" for pi.\n",
    "* %s - output a string.\n",
    "\n",
    "## Using Formatting Strings\n",
    "The way format strings work is that you input a formatting string to the `%` operator and have a second group of items to convert. The converted items replace the format string with their value.\n",
    "\n",
    "Huh? Here are some examples. Note the position of the `%` operator after the string and before the values to be formatted. Also note that I stronly encourage you to group your values in parentheses. First I define some variables with some values:\n",
    "```\n",
    "msg = \"Hello\"\n",
    "amp1 = 3.1415926\n",
    "amp2 = -2.71828\n",
    "nPts = 47\n",
    "```\n",
    "|format string usage | output|\n",
    "|----|----|\n",
    "|\"You said %s\" % (msg) | \"You said Hello\" |\n",
    "|\"Pi equals %f but rounds to %.3f\" % (amp1,amp1)|Pi equals 3.141593 but rounds to 3.142|\n",
    "|\"One million is %.1e\" % (1000000)|\"One million is 1e+06\" |\n",
    "| \"A small number is %.e\" %(1.0/1000000)|\"A small number is 1.0e-06\"|\n",
    "|\"There are %d points with a min of %.2f\" % (nPts, amp2)|\"There are 47 points with a min of -2.72\"|\n",
    "\n",
    "\n",
    "Print each of these example. "
   ]
  },
  {
   "cell_type": "code",
   "execution_count": 14,
   "metadata": {
    "collapsed": false
   },
   "outputs": [
    {
     "name": "stdout",
     "output_type": "stream",
     "text": [
      "You said Hello\n",
      "Pi equals 3.141593 but rounds to 3.142\n",
      "One million is 1e+06\n",
      "A small number is 1.0e-06\n",
      "There are 47 points with a min of -2.72\n"
     ]
    }
   ],
   "source": [
    "msg = \"Hello\"\n",
    "amp1 = 3.1415926535\n",
    "amp2 = -2.71828\n",
    "nPts = 47\n",
    "print(\"You said %s\" % (msg))\n",
    "print(\"Pi equals %f but rounds to %.3f\" % (amp1,amp1))\n",
    "print(\"One million is %.0e\" % (1000000))\n",
    "print(\"A small number is %.1e\" %(1.0/1000000))\n",
    "print(\"There are %d points with a min of %.2f\" % (nPts, amp2))"
   ]
  },
  {
   "cell_type": "markdown",
   "metadata": {},
   "source": [
    "Now go back and print the statistics above with a message and the numbers formatted to one decimal place after the decimal point. For example the max should look something like `Min = 1.0`.\n",
    "\n",
    "Print the `min`, `max`, `average`, `sigma` and `sigma(avg)`."
   ]
  },
  {
   "cell_type": "code",
   "execution_count": 15,
   "metadata": {
    "collapsed": false
   },
   "outputs": [
    {
     "name": "stdout",
     "output_type": "stream",
     "text": [
      "Min = 1.0\n",
      "Max = 61.0\n",
      "Avg = 24.3\n",
      "Sigma(avg) = 3.5\n",
      "Sigma = 21.1\n"
     ]
    }
   ],
   "source": [
    "print(\"Min = %.1f\" % (np.min(newX)))\n",
    "print(\"Max = %.1f\" % (np.max(newX)))\n",
    "print(\"Avg = %.1f\" % (np.average(newX)))\n",
    "print(\"Sigma(avg) = %.1f\" % (np.std(newX)/len(newX)))\n",
    "print(\"Sigma = %.1f\" % (np.std(newX)))"
   ]
  },
  {
   "cell_type": "markdown",
   "metadata": {},
   "source": [
    "# Random Numbers\n",
    "The `numpy` module also provides all of the random number generators you can imagine. They are in a submodule named `np.random`, so executing `help(np.random)` will give you most of the information you need about them. Random numbers are very useful in modeling experimental data.\n",
    "\n",
    "Here are some of the functions used the most:\n",
    "```\n",
    "np.seed(5) # starts the random number generator the same each time\n",
    "np.random.random() # returns a float in the range [0,1) \n",
    "np.random.random(10) # returns 10 floats in the range [0,1)\n",
    "np.random.uniform(10,15) # random numbers uniformly from [10,15)\n",
    "np.random.uniform(10,15,20) # returns an array of 20 of the above\n",
    "np.random.randint(2,5) # returns a random including 2 but NOT 5\n",
    "np.random.randint(2,5,20) # returns an array of 10 of the above\n",
    "np.random.normal() # return one number from the normal distribution \n",
    "                   # with mean = 0 and sigma = 1\n",
    "np.random.normal(101,3.2) # one number with mean=101 \n",
    "                          # and signa = 3.2\n",
    "np.random.normal(101,3.2, 30) # an array of 30 of the above \n",
    "np.random.shuffle(myArray) # randomly shuffles myArray in place\n",
    "```\n",
    "\n",
    "In the cell below print out at least five different examples from the functions given above."
   ]
  },
  {
   "cell_type": "code",
   "execution_count": 16,
   "metadata": {
    "collapsed": false
   },
   "outputs": [
    {
     "name": "stdout",
     "output_type": "stream",
     "text": [
      "[0.98638631 0.97031909 0.26559694 0.07677982 0.34095725]\n",
      "[-0.03010822  0.06216809  0.42062945 -0.50225606  0.15070374]\n",
      "[ 3 -1 -1 -4 -3]\n",
      "[ 3.61877667 -0.26326412 -2.63244011  1.52076167 -0.08295853]\n",
      "[ 2. 10.  4.  8.  0.  6.]\n"
     ]
    }
   ],
   "source": [
    "print(np.random.random(5))\n",
    "print(np.random.uniform(-1,1,5))\n",
    "print(np.random.randint(-5,5,5))\n",
    "print(np.random.normal(0,2,5))\n",
    "myArray = np.linspace(0,10,6)\n",
    "np.random.shuffle(myArray)\n",
    "print(myArray)"
   ]
  },
  {
   "cell_type": "code",
   "execution_count": 17,
   "metadata": {
    "collapsed": false
   },
   "outputs": [
    {
     "data": {
      "text/html": [
       "<style type=\"text/css\">\n",
       "@import url('http://fonts.googleapis.com/css?family=Source+Code+Pro');\n",
       "\n",
       "/* Change code font */\n",
       ".CodeMirror pre {\n",
       "    font-family: 'Source Code Pro', Consolas, monocco, monospace;\n",
       "}\n",
       "\n",
       "div.text_cell {  \n",
       "    max-width: 105ex; /* instead of 100%, */\n",
       "}\n",
       "\n",
       "div.text_cell_render h1 {  \n",
       "    font-size: 16pt;\n",
       "    font-weight: bold;\n",
       "    color: RoyalBlue;\n",
       "}\n",
       "\n",
       "div.text_cell_render h2 {  \n",
       "    font-size: 14pt;\n",
       "    font-weight: bold;\n",
       "    font-style: italic;\n",
       "    color: RoyalBlue;\n",
       "}\n",
       "\n",
       "div.text_cell_render h3 {  \n",
       "    font-size: 14pt;\n",
       "    font-weight: normal;\n",
       "    font-style: italic;\n",
       "    color: RoyalBlue;\n",
       "}\n",
       "\n",
       "div.text_cell_render .rendered_html pre,\n",
       "div.text_cell_render .rendered_html code {\n",
       "    font-size: 14pt;\n",
       "    color: RoyalBlue;\n",
       "}\n",
       "\n",
       ".rendered_html ol {\n",
       "    list-style:decimal;\n",
       "    margin: 1em 2em;\n",
       "}\n",
       "\n",
       "hr {\n",
       "  height:0; \n",
       "  border:0; \n",
       "  border-top:5px solid RoyalBlue; \n",
       "}\n",
       "</style>"
      ],
      "text/plain": [
       "<IPython.core.display.HTML object>"
      ]
     },
     "execution_count": 17,
     "metadata": {},
     "output_type": "execute_result"
    }
   ],
   "source": [
    "from IPython.core.display import HTML\n",
    "def css_styling():\n",
    "    styles = open(\"custom.css\", \"r\").read()\n",
    "    return HTML(styles)\n",
    "css_styling()"
   ]
  }
 ],
 "metadata": {
  "anaconda-cloud": {},
  "kernelspec": {
   "display_name": "Python [conda env:py37]",
   "language": "python",
   "name": "conda-env-py37-py"
  },
  "language_info": {
   "codemirror_mode": {
    "name": "ipython",
    "version": 3
   },
   "file_extension": ".py",
   "mimetype": "text/x-python",
   "name": "python",
   "nbconvert_exporter": "python",
   "pygments_lexer": "ipython3",
   "version": "3.7.2"
  }
 },
 "nbformat": 4,
 "nbformat_minor": 0
}
